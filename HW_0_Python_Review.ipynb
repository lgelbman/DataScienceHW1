{
  "nbformat": 4,
  "nbformat_minor": 0,
  "metadata": {
    "colab": {
      "name": "HW 0: Python Review.ipynb",
      "provenance": [],
      "collapsed_sections": [],
      "authorship_tag": "ABX9TyNWkIYKWh6soSREZcHVe3hm",
      "include_colab_link": true
    },
    "kernelspec": {
      "name": "python3",
      "display_name": "Python 3"
    }
  },
  "cells": [
    {
      "cell_type": "markdown",
      "metadata": {
        "id": "view-in-github",
        "colab_type": "text"
      },
      "source": [
        "<a href=\"https://colab.research.google.com/github/lgelbman/DataScienceHW1/blob/main/HW_0_Python_Review.ipynb\" target=\"_parent\"><img src=\"https://colab.research.google.com/assets/colab-badge.svg\" alt=\"Open In Colab\"/></a>"
      ]
    },
    {
      "cell_type": "markdown",
      "metadata": {
        "id": "d0w_ivtK9n-Q"
      },
      "source": [
        "1. Use the following data and create an array that stores all earners over $100,000."
      ]
    },
    {
      "cell_type": "code",
      "metadata": {
        "id": "E9yT2myOEO-h",
        "colab": {
          "base_uri": "https://localhost:8080/"
        },
        "outputId": "c9833130-fafc-44ea-fc58-ceeb1664dd69"
      },
      "source": [
        "employees = {'Alice' : 100000,  'Bob' : 99817, 'Carol' : 122908,  'Frank' : 88123,'Eve' : 93121}\n",
        "employees_over_100k = list(filter(lambda e : employees[e] >= 100000, employees))\n",
        "print(employees_over_100k)"
      ],
      "execution_count": 74,
      "outputs": [
        {
          "output_type": "stream",
          "text": [
            "['Alice', 'Carol']\n"
          ],
          "name": "stdout"
        }
      ]
    },
    {
      "cell_type": "markdown",
      "metadata": {
        "id": "RJN3y82D9iu-"
      },
      "source": [
        "2. Create a list of all the even squares from 1 to 1000, and sort it so it is largest to smallest."
      ]
    },
    {
      "cell_type": "code",
      "metadata": {
        "colab": {
          "base_uri": "https://localhost:8080/"
        },
        "id": "DIyZfmYk9uRE",
        "outputId": "a676101e-a11a-4bc5-ac1b-dbddfd2cb969"
      },
      "source": [
        "allSquares = [n * n for n in range(1, 1000) if n * n <= 1000]\n",
        "result = list(filter(lambda x : x % 2 == 0, allSquares))\n",
        "\n",
        "print(result)"
      ],
      "execution_count": 75,
      "outputs": [
        {
          "output_type": "stream",
          "text": [
            "[4, 16, 36, 64, 100, 144, 196, 256, 324, 400, 484, 576, 676, 784, 900]\n"
          ],
          "name": "stdout"
        }
      ]
    },
    {
      "cell_type": "markdown",
      "metadata": {
        "id": "8kdpkgS-AVbR"
      },
      "source": [
        "3. Find all words in the text that are greater than 6 letters and store in a list: ​"
      ]
    },
    {
      "cell_type": "code",
      "metadata": {
        "id": "gBC4WD9CAg3o",
        "colab": {
          "base_uri": "https://localhost:8080/"
        },
        "outputId": "90bb3887-86bb-4804-e98d-5884b6070a7b"
      },
      "source": [
        "string = 'Call me Ishmael. Some years ago - never mind how long precisely - having little or nomoney in my purse, and nothing particular to interest me on shore, I thought Iwould sail about a little and see the watery part of the world. It is a way I have ofdriving off the spleen, and regulating the circulation. - Moby Dick'\n",
        "words = string.split(\" \")\n",
        "words_greater_than_6_letters = list(filter(lambda w : len(w) > 6, words))\n",
        "print(words_greater_than_6_letters)"
      ],
      "execution_count": 77,
      "outputs": [
        {
          "output_type": "stream",
          "text": [
            "['Ishmael.', 'precisely', 'nomoney', 'nothing', 'particular', 'interest', 'thought', 'ofdriving', 'spleen,', 'regulating', 'circulation.']\n"
          ],
          "name": "stdout"
        }
      ]
    },
    {
      "cell_type": "markdown",
      "metadata": {
        "id": "aOj9YhHWCLCJ"
      },
      "source": [
        "4. Create a new data set that includes every other data point"
      ]
    },
    {
      "cell_type": "code",
      "metadata": {
        "id": "bOkrs02UCQSJ",
        "colab": {
          "base_uri": "https://localhost:8080/"
        },
        "outputId": "b680645e-b8f8-4a2e-e526-923e9b589f5f"
      },
      "source": [
        "price = [[9.9, 9.8, 9.8,9.4, 9.5, 9.7],  [9.5, 9.4, 9.4, 9.3, 9.2, 9.1], [8.4, 7.9, 7.9, 8.1, 8.0, 8.0],  [7.1, 5.9,4.8, 4.8, 4.7, 3.9]]\n",
        "new_data_set = []\n",
        "for i in range(len(price)):\n",
        "  if i % 2 == 0:\n",
        "    new_data_set.append(price[i])\n",
        "print(new_data_set)"
      ],
      "execution_count": 79,
      "outputs": [
        {
          "output_type": "stream",
          "text": [
            "[[9.9, 9.8, 9.8, 9.4, 9.5, 9.7], [8.4, 7.9, 7.9, 8.1, 8.0, 8.0]]\n"
          ],
          "name": "stdout"
        }
      ]
    },
    {
      "cell_type": "markdown",
      "metadata": {
        "id": "rZb1bWJCDCk_"
      },
      "source": [
        "5. Take the data and remove the first and last two values. Create ten copies of thedata stored as one list. Use plt.plot to plot it."
      ]
    },
    {
      "cell_type": "code",
      "metadata": {
        "id": "F5W5wOOwDMX7",
        "colab": {
          "base_uri": "https://localhost:8080/",
          "height": 265
        },
        "outputId": "7d07c387-8d91-41dd-e4bd-58101fe9c125"
      },
      "source": [
        "import matplotlib.pyplot as plt\n",
        "\n",
        "cardiac_cycle = [62, 60, 62, 64, 68,77, 80, 76, 71, 66, 61, 60, 62]\n",
        "cardiac_cycle.pop(0)\n",
        "cardiac_cycle.pop(0)\n",
        "cardiac_cycle.pop(-1)\n",
        "cardiac_cycle.pop(-1)\n",
        "\n",
        "\n",
        "def deepCopy(list1):\n",
        "  result = []\n",
        "  result.extend(list1)\n",
        "  return result\n",
        "\n",
        "copy = deepCopy(cardiac_cycle)\n",
        "for i in range(10):\n",
        "  cardiac_cycle.extend(copy)\n",
        "\n",
        "def plot(list1):\n",
        "  plt.plot(cardiac_cycle)\n",
        "  plt.show()\n",
        "\n",
        "plot(cardiac_cycle)\n"
      ],
      "execution_count": 81,
      "outputs": [
        {
          "output_type": "display_data",
          "data": {
            "image/png": "[encoded data removed]",
            "text/plain": [
              "<Figure size 432x288 with 1 Axes>"
            ]
          },
          "metadata": {
            "tags": [],
            "needs_background": "light"
          }
        }
      ]
    },
    {
      "cell_type": "markdown",
      "metadata": {
        "id": "YmVliY1Lrw_z"
      },
      "source": [
        "6. Create a list of any company who pays its employees less than $9 an hour."
      ]
    },
    {
      "cell_type": "code",
      "metadata": {
        "colab": {
          "base_uri": "https://localhost:8080/"
        },
        "id": "K0kojh__r2ZL",
        "outputId": "57782d3d-d7ba-49d7-d0c2-3301c573abc8"
      },
      "source": [
        "import functools\n",
        "\n",
        "companies = {'CoolCompany' : {'Alice' : 33, 'Bob' : 28, 'Frank' : 29},'CheapCompany' : {'Ann' : 4, 'Lee' : 9, 'Chrisi' : 7},    'SosoCompany' : {'Esther' :38, 'Cole' : 8, 'Paris' : 18}}\n",
        "\n",
        "greater_than_nine = lambda x : x > 9\n",
        "all_true = lambda x, y : x and y\n",
        "\n",
        "\n",
        "[x for x in companies if functools.reduce(all_true, map(greater_than_nine, companies[x].values())) ]"
      ],
      "execution_count": null,
      "outputs": [
        {
          "output_type": "execute_result",
          "data": {
            "text/plain": [
              "['CoolCompany']"
            ]
          },
          "metadata": {
            "tags": []
          },
          "execution_count": 43
        }
      ]
    },
    {
      "cell_type": "markdown",
      "metadata": {
        "id": "Egl94YhSwZou"
      },
      "source": [
        "7.zip and unzip the following two lists: "
      ]
    },
    {
      "cell_type": "code",
      "metadata": {
        "colab": {
          "base_uri": "https://localhost:8080/"
        },
        "id": "qCImMsoewjTO",
        "outputId": "f0f84404-9c70-4a00-f112-277666318819"
      },
      "source": [
        "lst_1 = [1, 2, 3]\n",
        "lst_2 = [4, 5, 6]\n",
        "zipped = list(zip(lst_1, lst_2))\n",
        "unzipped_1 = list(map(lambda x : x[0], zipped))\n",
        "unzipped_2 = list(map(lambda x : x[1], zipped))"
      ],
      "execution_count": null,
      "outputs": [
        {
          "output_type": "stream",
          "text": [
            "[4, 5, 6]\n"
          ],
          "name": "stdout"
        }
      ]
    },
    {
      "cell_type": "markdown",
      "metadata": {
        "id": "zkR0KT9lxfHL"
      },
      "source": [
        "8.Given the matrices a and b. Add, subtract, multiply, and divide a by b. Find themax, min and average as well. "
      ]
    },
    {
      "cell_type": "code",
      "metadata": {
        "id": "LxiaWkvCxnkY",
        "colab": {
          "base_uri": "https://localhost:8080/"
        },
        "outputId": "d3bab60c-433e-4c3b-a780-8f363119d209"
      },
      "source": [
        "import numpy as np\n",
        "\n",
        "a = np.array([[1, 0, 0],  [1, 1, 1],   [2, 0, 0]])\n",
        "b = np.array([[1, 1, 1],  [1, 1, 2],    [1, 1, 2]])\n",
        "a_plus_b = a + b\n",
        "print(a_plus_b)\n",
        "a_minus_b = a - b\n",
        "print(a_minus_b)\n",
        "a_times_b = np.matmul(a, b)\n",
        "print(a_times_b)\n",
        "a_divided_by_b = np.divide(a, b)\n",
        "print(a_divided_by_b)\n",
        "max_of_a = np.max(a)\n",
        "print(max_of_a)\n",
        "max_of_b = np.max(b)\n",
        "print(max_of_b)\n",
        "min_of_a = np.min(a)\n",
        "print(min_of_a)\n",
        "min_of_b = np.min(b)\n",
        "print(min_of_b)\n",
        "average_of_a = np.average(a)\n",
        "print(average_of_a)\n",
        "average_of_b = np.average(b)\n",
        "print(average_of_b)"
      ],
      "execution_count": 83,
      "outputs": [
        {
          "output_type": "stream",
          "text": [
            "[[2 1 1]\n",
            " [2 2 3]\n",
            " [3 1 2]]\n",
            "[[ 0 -1 -1]\n",
            " [ 0  0 -1]\n",
            " [ 1 -1 -2]]\n",
            "[[1 1 1]\n",
            " [3 3 5]\n",
            " [2 2 2]]\n",
            "[[1.  0.  0. ]\n",
            " [1.  1.  0.5]\n",
            " [2.  0.  0. ]]\n",
            "2\n",
            "2\n",
            "0\n",
            "1\n",
            "0.6666666666666666\n",
            "1.2222222222222223\n"
          ],
          "name": "stdout"
        }
      ]
    },
    {
      "cell_type": "markdown",
      "metadata": {
        "id": "n_2YV9hS0Lwd"
      },
      "source": [
        "9. Find the max salary after taxes are taken out. Here alice, bob, and tim have salaries recorded for the years 2019, 2020, and 2021."
      ]
    },
    {
      "cell_type": "code",
      "metadata": {
        "colab": {
          "base_uri": "https://localhost:8080/"
        },
        "id": "N_zP_Xh_eAHI",
        "outputId": "90121fe7-bd15-469c-8cd3-2702cb2b3108"
      },
      "source": [
        "import numpy as np\n",
        "\n",
        "alice = [99, 101, 103]\n",
        "bob = [110, 108, 105]\n",
        "tim = [90, 88, 85]\n",
        "salaries = np.array([alice, bob, tim])\n",
        "taxation = np.array([[0.2, 0.25, 0.22], [0.4, 0.5, 0.5], [0.1, 0.2, 0.1]])\n",
        "salaries_after_taxation = salaries * (1 - taxation)\n",
        "max = np.max(salaries_after_taxation)\n",
        "print(salaries_after_taxation)\n",
        "print(max)"
      ],
      "execution_count": 82,
      "outputs": [
        {
          "output_type": "stream",
          "text": [
            "[[79.2  75.75 80.34]\n",
            " [66.   54.   52.5 ]\n",
            " [81.   70.4  76.5 ]]\n",
            "81.0\n"
          ],
          "name": "stdout"
        }
      ]
    },
    {
      "cell_type": "markdown",
      "metadata": {
        "id": "BmZ7DGPMfOcZ"
      },
      "source": [
        "10. Increase the salary for only data scientists every other year \\\n",
        " Data: yearly salary in ($1000) [2019, 2020, 2021]"
      ]
    },
    {
      "cell_type": "code",
      "metadata": {
        "colab": {
          "base_uri": "https://localhost:8080/"
        },
        "id": "5m_LGD3wfTZr",
        "outputId": "a704742d-4a8c-4126-df73-4703b90b1dd3"
      },
      "source": [
        "import numpy as np\n",
        "\n",
        "dataScientist = [130, 132, 137]\n",
        "productManager = [127, 140, 145]\n",
        "designer = [118, 118, 127]\n",
        "softwareEngineer = [129, 131, 137]\n",
        "employees = np.array([dataScientist, productManager, designer, softwareEngineer])\n",
        "\n",
        "increase = np.array([[1, 1, 1], [0, 0, 0], [0, 0, 0], [0, 0, 0]])\n",
        "employees += increase\n",
        "print(employees)"
      ],
      "execution_count": 84,
      "outputs": [
        {
          "output_type": "stream",
          "text": [
            "[[131 133 138]\n",
            " [127 140 145]\n",
            " [118 118 127]\n",
            " [129 131 137]]\n"
          ],
          "name": "stdout"
        }
      ]
    },
    {
      "cell_type": "markdown",
      "metadata": {
        "id": "-wWMwM87hKid"
      },
      "source": [
        "11. Find all cities with above-average pollution peaks from a set of data. \\\n",
        "Data: air quality index AQI data (row = city)"
      ]
    },
    {
      "cell_type": "code",
      "metadata": {
        "colab": {
          "base_uri": "https://localhost:8080/"
        },
        "id": "AWTe5AhqhMWu",
        "outputId": "bbb40e09-4348-478e-e719-c19456af3343"
      },
      "source": [
        "X = np.array([[ 42, 40, 41, 43, 44, 43 ], [ 30, 31, 29, 29, 29, 30 ], [ 8, 13,31, 11, 11, 9 ], [ 11, 11, 12, 13, 11, 12 ]])\n",
        "average = np.average(X)\n",
        "averages_for_each_city = np.average(X, axis=1)\n",
        "above_average_cities = averages_for_each_city[np.where(averages_for_each_city > average)]\n",
        "print(above_average_cities)"
      ],
      "execution_count": 15,
      "outputs": [
        {
          "output_type": "stream",
          "text": [
            "[42.16666667 29.66666667]\n"
          ],
          "name": "stdout"
        }
      ]
    },
    {
      "cell_type": "markdown",
      "metadata": {
        "id": "yfN225r3jWHd"
      },
      "source": [
        "12. Given an array of temperature values, replace every seventh temperature valuewith the average of the last seven days (including the seventh day’s temperaturevalue). \\\n",
        "Sensor data (Mo, Tu, We, Th, Fr, Sa, Su)"
      ]
    },
    {
      "cell_type": "code",
      "metadata": {
        "colab": {
          "base_uri": "https://localhost:8080/"
        },
        "id": "h0oFomhXjbYR",
        "outputId": "315bf39f-b4ec-4355-b314-7c378f8ddb42"
      },
      "source": [
        "import numpy as np\n",
        "\n",
        "tmp = np.array([1.1, 2.1, 3, 4.6, 3.8, 4.1, 4, 5, 3.3, 3, 4.6, 3.6, 4.2, 6, 6, 5.1,5.2, 5.6, 4, 5, 5])\n",
        "for i in range(tmp.size):\n",
        "  if i % 7 == 0 and i >= 7:\n",
        "    prev_seven = tmp[i-7:i]\n",
        "    average = np.average(prev_seven)\n",
        "    tmp[i - 1] = average\n",
        "  \n",
        "print(tmp)\n",
        "  "
      ],
      "execution_count": 87,
      "outputs": [
        {
          "output_type": "stream",
          "text": [
            "[1.1        2.1        3.         4.6        3.8        4.1\n",
            " 3.24285714 5.         3.3        3.         4.6        3.6\n",
            " 4.2        4.24285714 6.         5.1        5.2        5.6\n",
            " 4.         5.         5.        ]\n"
          ],
          "name": "stdout"
        }
      ]
    },
    {
      "cell_type": "markdown",
      "metadata": {
        "id": "FrgNa1KgXj4q"
      },
      "source": [
        "13.Create a function and/or lambda expression that checks if two words are anagrams, such as ‘elvis’ and ‘lives’."
      ]
    },
    {
      "cell_type": "code",
      "metadata": {
        "colab": {
          "base_uri": "https://localhost:8080/"
        },
        "id": "5lcvqzn-Xk6f",
        "outputId": "b26894fa-35d9-4488-e837-b1691528013b"
      },
      "source": [
        "def anagram(string1, string2):\n",
        "\n",
        "  def convert_string_to_dict(string):\n",
        "    chars_dict = {}\n",
        "    for i in string:\n",
        "      if i not in chars_dict:\n",
        "        chars_dict[i] = 1\n",
        "      else:\n",
        "        chars_dict[i] += 1\n",
        "    return chars_dict\n",
        "\n",
        "  string1 = convert_string_to_dict(string1)\n",
        "  string2 = convert_string_to_dict(string2)\n",
        "\n",
        "  if len(list(string1.keys())) != len(list(string2.keys())):\n",
        "    return False\n",
        "\n",
        "  for i in string1.keys():\n",
        "    if i not in string2:\n",
        "      return False\n",
        "    if string1[i] != string2[i]:\n",
        "      return False\n",
        "  return True\n",
        "\n",
        "\n",
        "print(anagram(\"abc\", \"cba\"))\n",
        "print(anagram(\"abc\", \"def\"))"
      ],
      "execution_count": 27,
      "outputs": [
        {
          "output_type": "stream",
          "text": [
            "True\n",
            "False\n"
          ],
          "name": "stdout"
        }
      ]
    },
    {
      "cell_type": "markdown",
      "metadata": {
        "id": "d_p-fEA_i9YS"
      },
      "source": [
        "14. Create a function and/or lambda expression that checks if a phrase is a palindrome"
      ]
    },
    {
      "cell_type": "code",
      "metadata": {
        "colab": {
          "base_uri": "https://localhost:8080/"
        },
        "id": "BYZMr47gi_Cm",
        "outputId": "68b513c3-a9be-410d-89a8-d0d0b8faa9b2"
      },
      "source": [
        "def is_palindrome(string): \n",
        "  length_of_string = len(string)\n",
        "  if length_of_string <= 3:\n",
        "    return string[0] == string[length_of_string - 1]\n",
        "  else:\n",
        "    return string[0] == string[length_of_string - 1] and is_palindrome(string[1: length_of_string - 1])\n",
        "\n",
        "print(is_palindrome(\"abcddcba\"))\n",
        "print(is_palindrome(\"abcdabcd\"))"
      ],
      "execution_count": 57,
      "outputs": [
        {
          "output_type": "stream",
          "text": [
            "True\n",
            "False\n"
          ],
          "name": "stdout"
        }
      ]
    },
    {
      "cell_type": "markdown",
      "metadata": {
        "id": "4hMHChTDneop"
      },
      "source": [
        "15. Create a recursive factorial lambda"
      ]
    },
    {
      "cell_type": "code",
      "metadata": {
        "colab": {
          "base_uri": "https://localhost:8080/"
        },
        "id": "5bMus6GGnfuJ",
        "outputId": "7827674d-9867-4bc5-c16d-48cc71e6b742"
      },
      "source": [
        "def factorial(n): return 1 if n <= 1 else n * factorial(n - 1)\n",
        "\n",
        "factorial(5)"
      ],
      "execution_count": 71,
      "outputs": [
        {
          "output_type": "execute_result",
          "data": {
            "text/plain": [
              "120"
            ]
          },
          "metadata": {
            "tags": []
          },
          "execution_count": 71
        }
      ]
    }
  ]
}